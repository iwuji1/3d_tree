{
 "cells": [
  {
   "cell_type": "code",
   "execution_count": 19,
   "id": "5e3a2821",
   "metadata": {},
   "outputs": [],
   "source": [
    "import pandas as pd\n",
    "import geopandas as gpd\n",
    "from shapely.geometry import Point"
   ]
  },
  {
   "cell_type": "code",
   "execution_count": 3,
   "id": "edac0aa2",
   "metadata": {},
   "outputs": [],
   "source": [
    "file_path = \"London_street_trees_gla.csv\"\n",
    "df = pd.read_csv(file_path, low_memory=False)"
   ]
  },
  {
   "cell_type": "code",
   "execution_count": 4,
   "id": "608d84bb",
   "metadata": {},
   "outputs": [
    {
     "name": "stdout",
     "output_type": "stream",
     "text": [
      "    gla_id   borough                            species_name common_name  \\\n",
      "0  glaid_0  Barking   Acer pseudoplatanus 'brilliantissimum'         NaN   \n",
      "1  glaid_1  Barking                 Taxus baccata fastigiata         NaN   \n",
      "2  glaid_2  Barking                 Taxus baccata fastigiata         NaN   \n",
      "3  glaid_3  Barking                 Taxus baccata fastigiata         NaN   \n",
      "4  glaid_4  Barking                     Robinia pseudoacacia         NaN   \n",
      "\n",
      "   display_name  load_date   easting  northing  longitude   latitude  \n",
      "0         Maple   20180214  548320.0  189593.0   0.139454  51.585695  \n",
      "1         Other   20180214  548297.0  189590.0   0.139123  51.585670  \n",
      "2         Other   20180214  548289.0  189592.0   0.139004  51.585689  \n",
      "3         Other   20180214  548298.0  189597.0   0.139134  51.585732  \n",
      "4  Black Locust   20180214  548308.0  189607.0   0.139288  51.585819  \n"
     ]
    }
   ],
   "source": [
    "print(df.head())"
   ]
  },
  {
   "cell_type": "code",
   "execution_count": 5,
   "id": "157335bc",
   "metadata": {},
   "outputs": [],
   "source": [
    "#Find unique latitude and longitude pairs\n",
    "unique_coords = df[['latitude', 'longitude']].drop_duplicates()"
   ]
  },
  {
   "cell_type": "code",
   "execution_count": 6,
   "id": "f8219f19",
   "metadata": {},
   "outputs": [
    {
     "name": "stdout",
     "output_type": "stream",
     "text": [
      "Number of unique latitude and longitude pairs: 684159\n"
     ]
    }
   ],
   "source": [
    "# Count the unique pairs\n",
    "unique_count = unique_coords.shape[0]\n",
    "\n",
    "print(f\"Number of unique latitude and longitude pairs: {unique_count}\")"
   ]
  },
  {
   "cell_type": "code",
   "execution_count": 7,
   "id": "a4973c20",
   "metadata": {},
   "outputs": [
    {
     "data": {
      "text/plain": [
       "726934"
      ]
     },
     "execution_count": 7,
     "metadata": {},
     "output_type": "execute_result"
    }
   ],
   "source": [
    "df.shape[0]"
   ]
  },
  {
   "cell_type": "code",
   "execution_count": 10,
   "id": "606898ab",
   "metadata": {},
   "outputs": [
    {
     "data": {
      "text/plain": [
       "24"
      ]
     },
     "execution_count": 10,
     "metadata": {},
     "output_type": "execute_result"
    }
   ],
   "source": [
    "# Count the unique display names\n",
    "unique_displays = df[['display_name']].drop_duplicates()\n",
    "\n",
    "unique_displays.shape[0]"
   ]
  },
  {
   "cell_type": "code",
   "execution_count": 16,
   "id": "6ca138b8",
   "metadata": {},
   "outputs": [
    {
     "name": "stdout",
     "output_type": "stream",
     "text": [
      "          borough                      species_name  tree_count display_name\n",
      "0        Barking                     Acer campestre         181        Maple\n",
      "1        Barking   Acer campestre \"queen elizabeth\"           1        Maple\n",
      "2        Barking                  Acer cappadocicum           5        Maple\n",
      "3        Barking                   Acer cappadocium           1        Maple\n",
      "4        Barking                       Acer davidii           1        Maple\n",
      "...           ...                               ...         ...          ...\n",
      "6255  Westminster                     Ulmus species         110          Elm\n",
      "6256  Westminster    Viburnum opulus 'xanthocarpum'           2        Other\n",
      "6257  Westminster                    Viburnum tinus           1        Other\n",
      "6258  Westminster              Zelkova carpinifolia           2          Elm\n",
      "6259  Westminster                   Zelkova serrata           5          Elm\n",
      "\n",
      "[6260 rows x 4 columns]\n"
     ]
    }
   ],
   "source": [
    "#group by borough and species, and count the number of trees\n",
    "tree_boro_spec = df.groupby(['borough', 'species_name']).agg(\n",
    "    tree_count=('gla_id', 'count'),\n",
    "    display_name=('display_name', lambda x: ', '.join(x.unique()))  # Concatenate unique display names\n",
    ").reset_index()\n",
    "\n",
    "print(tree_boro_spec)"
   ]
  },
  {
   "cell_type": "code",
   "execution_count": 12,
   "id": "6afa6ea0",
   "metadata": {},
   "outputs": [],
   "source": [
    "# Calculate average latitude and longitude for each borough\n",
    "boro_coords = df.groupby('borough').agg(\n",
    "    avg_latitude=('latitude', 'mean'),\n",
    "    avg_longitude=('longitude', 'mean')\n",
    ").reset_index()"
   ]
  },
  {
   "cell_type": "code",
   "execution_count": 17,
   "id": "0bce6e52",
   "metadata": {},
   "outputs": [
    {
     "data": {
      "text/plain": [
       "pandas.core.frame.DataFrame"
      ]
     },
     "execution_count": 17,
     "metadata": {},
     "output_type": "execute_result"
    }
   ],
   "source": [
    "type(tree_boro_spec)"
   ]
  },
  {
   "cell_type": "code",
   "execution_count": 18,
   "id": "dd628eb5",
   "metadata": {},
   "outputs": [
    {
     "name": "stdout",
     "output_type": "stream",
     "text": [
      "          borough                      species_name  tree_count display_name  \\\n",
      "0        Barking                     Acer campestre         181        Maple   \n",
      "1        Barking   Acer campestre \"queen elizabeth\"           1        Maple   \n",
      "2        Barking                  Acer cappadocicum           5        Maple   \n",
      "3        Barking                   Acer cappadocium           1        Maple   \n",
      "4        Barking                       Acer davidii           1        Maple   \n",
      "...           ...                               ...         ...          ...   \n",
      "6255  Westminster                     Ulmus species         110          Elm   \n",
      "6256  Westminster    Viburnum opulus 'xanthocarpum'           2        Other   \n",
      "6257  Westminster                    Viburnum tinus           1        Other   \n",
      "6258  Westminster              Zelkova carpinifolia           2          Elm   \n",
      "6259  Westminster                   Zelkova serrata           5          Elm   \n",
      "\n",
      "      avg_latitude  avg_longitude  \n",
      "0        51.548702       0.123001  \n",
      "1        51.548702       0.123001  \n",
      "2        51.548702       0.123001  \n",
      "3        51.548702       0.123001  \n",
      "4        51.548702       0.123001  \n",
      "...            ...            ...  \n",
      "6255     51.527670      -0.179529  \n",
      "6256     51.527670      -0.179529  \n",
      "6257     51.527670      -0.179529  \n",
      "6258     51.527670      -0.179529  \n",
      "6259     51.527670      -0.179529  \n",
      "\n",
      "[6260 rows x 6 columns]\n"
     ]
    }
   ],
   "source": [
    "# Merge borough coordinates with tree counts\n",
    "tree_counts_with_coords = pd.merge(\n",
    "    tree_boro_spec,\n",
    "    boro_coords,\n",
    "    on='borough'\n",
    ")\n",
    "\n",
    "print(tree_counts_with_coords)"
   ]
  },
  {
   "cell_type": "code",
   "execution_count": 20,
   "id": "8f29b8bb",
   "metadata": {},
   "outputs": [],
   "source": [
    "# Convert latitude and longitude to geometry points\n",
    "tree_counts_with_coords[\"geometry\"] = tree_counts_with_coords.apply(lambda row: Point(row[\"avg_longitude\"], row[\"avg_latitude\"]), axis=1)"
   ]
  },
  {
   "cell_type": "code",
   "execution_count": 22,
   "id": "8651c49c",
   "metadata": {},
   "outputs": [],
   "source": [
    "# Create a GeoDataFrame\n",
    "gdf = gpd.GeoDataFrame(tree_counts_with_coords, geometry=\"geometry\", crs=\"EPSG:4326\")\n",
    "\n",
    "# Export as GeoJSON\n",
    "gdf.to_file(\"tree_volumes.geojson\", driver=\"GeoJSON\")"
   ]
  },
  {
   "cell_type": "code",
   "execution_count": null,
   "id": "31fc480b",
   "metadata": {},
   "outputs": [],
   "source": []
  }
 ],
 "metadata": {
  "kernelspec": {
   "display_name": "Python 3",
   "language": "python",
   "name": "python3"
  },
  "language_info": {
   "codemirror_mode": {
    "name": "ipython",
    "version": 3
   },
   "file_extension": ".py",
   "mimetype": "text/x-python",
   "name": "python",
   "nbconvert_exporter": "python",
   "pygments_lexer": "ipython3",
   "version": "3.8.8"
  }
 },
 "nbformat": 4,
 "nbformat_minor": 5
}
